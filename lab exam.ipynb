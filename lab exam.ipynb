{
  "nbformat": 4,
  "nbformat_minor": 0,
  "metadata": {
    "colab": {
      "provenance": [],
      "authorship_tag": "ABX9TyO/pL/NKFemgJVeK0GQi9+4",
      "include_colab_link": true
    },
    "kernelspec": {
      "name": "python3",
      "display_name": "Python 3"
    },
    "language_info": {
      "name": "python"
    }
  },
  "cells": [
    {
      "cell_type": "markdown",
      "metadata": {
        "id": "view-in-github",
        "colab_type": "text"
      },
      "source": [
        "<a href=\"https://colab.research.google.com/github/BhanuDanda/AIML-/blob/main/lab%20exam.ipynb\" target=\"_parent\"><img src=\"https://colab.research.google.com/assets/colab-badge.svg\" alt=\"Open In Colab\"/></a>"
      ]
    },
    {
      "cell_type": "markdown",
      "source": [
        "Prediction of dresses in garment sales\n",
        "1. Identify the top 5 material most used for garment making?\n",
        "2. Identify the seasons with most garment usage\n",
        "3. Find the max and min size of garments made for customers.\n",
        "4. Name the top 5 decoration, fabrictype used to make garments\n",
        "5. Identify the costliest stylish garment prepared for customers.\n",
        "6. Apply either Classification Model or Clustering Model to evaluate the dataset"
      ],
      "metadata": {
        "id": "Qv92wVEQ7M54"
      }
    },
    {
      "cell_type": "markdown",
      "source": [
        "1. Identify the top 5 material most used for garment making?"
      ],
      "metadata": {
        "id": "LxAdw2qw7URP"
      }
    },
    {
      "cell_type": "code",
      "execution_count": 14,
      "metadata": {
        "colab": {
          "base_uri": "https://localhost:8080/"
        },
        "id": "ujPT_xPB4ab9",
        "outputId": "feaae832-a45b-4ba2-db6b-010851715537"
      },
      "outputs": [
        {
          "output_type": "stream",
          "name": "stdout",
          "text": [
            "Top 5 materials used for garment making:\n",
            "Material\n",
            "Cotton       3\n",
            "Polyester    2\n",
            "Silk         2\n",
            "Linen        2\n",
            "Wool         2\n",
            "Name: count, dtype: int64\n"
          ]
        }
      ],
      "source": [
        "import pandas as pd\n",
        "\n",
        "data = pd.read_csv('garment_sales.csv')\n",
        "\n",
        "print(\"Top 5 materials used for garment making:\")\n",
        "print(data['Material'].value_counts().head(5))\n"
      ]
    },
    {
      "cell_type": "markdown",
      "source": [
        "2. Identify the seasons with most garment usage"
      ],
      "metadata": {
        "id": "FkwkWksL7bQk"
      }
    },
    {
      "cell_type": "code",
      "source": [
        "print(\"\\nSeasons with most garment usage:\")\n",
        "print(data['Season'].value_counts())\n"
      ],
      "metadata": {
        "colab": {
          "base_uri": "https://localhost:8080/"
        },
        "id": "COT7e4DV6bZf",
        "outputId": "323713dc-1309-4baa-e1a8-9849ed03f284"
      },
      "execution_count": 15,
      "outputs": [
        {
          "output_type": "stream",
          "name": "stdout",
          "text": [
            "\n",
            "Seasons with most garment usage:\n",
            "Season\n",
            "Summer    5\n",
            "Winter    4\n",
            "Spring    3\n",
            "Autumn    3\n",
            "Name: count, dtype: int64\n"
          ]
        }
      ]
    },
    {
      "cell_type": "markdown",
      "source": [
        "3. Find the max and min size of garments made for customers."
      ],
      "metadata": {
        "id": "e8zYMGef7g2J"
      }
    },
    {
      "cell_type": "code",
      "source": [
        "print(\"\\nMaximum size of garments:\", data['Size'].max())\n",
        "print(\"Minimum size of garments:\", data['Size'].min())\n"
      ],
      "metadata": {
        "colab": {
          "base_uri": "https://localhost:8080/"
        },
        "id": "1uXP_Zh-6bWN",
        "outputId": "d15a4618-0119-413f-ba13-814a1e0911e8"
      },
      "execution_count": 16,
      "outputs": [
        {
          "output_type": "stream",
          "name": "stdout",
          "text": [
            "\n",
            "Maximum size of garments: 46\n",
            "Minimum size of garments: 34\n"
          ]
        }
      ]
    },
    {
      "cell_type": "markdown",
      "source": [
        "4. Name the top 5 decoration, fabrictype used to make garments"
      ],
      "metadata": {
        "id": "7htIcTSd7lO3"
      }
    },
    {
      "cell_type": "code",
      "source": [
        "print(\"\\nTop 5 decorations used:\")\n",
        "print(data['Decoration'].value_counts().head(5))\n",
        "\n",
        "print(\"\\nTop 5 fabric types used:\")\n",
        "print(data['FabricType'].value_counts().head(5))\n"
      ],
      "metadata": {
        "colab": {
          "base_uri": "https://localhost:8080/"
        },
        "id": "Vu8zs5SW73T4",
        "outputId": "9cf54188-a9c8-4273-fe66-928510b97f96"
      },
      "execution_count": 17,
      "outputs": [
        {
          "output_type": "stream",
          "name": "stdout",
          "text": [
            "\n",
            "Top 5 decorations used:\n",
            "Decoration\n",
            "Embroidery    4\n",
            "Beading       3\n",
            "Sequins       3\n",
            "Lace          3\n",
            "Patchwork     2\n",
            "Name: count, dtype: int64\n",
            "\n",
            "Top 5 fabric types used:\n",
            "FabricType\n",
            "Chiffon    3\n",
            "Denim      2\n",
            "Satin      2\n",
            "Linen      2\n",
            "Cotton     2\n",
            "Name: count, dtype: int64\n"
          ]
        }
      ]
    },
    {
      "cell_type": "markdown",
      "source": [
        "5. Identify the costliest stylish garment prepared for customers."
      ],
      "metadata": {
        "id": "VyS8n2yZ74Td"
      }
    },
    {
      "cell_type": "code",
      "source": [
        "most_expensive_garment = data.loc[data['Cost'].idxmax()]\n",
        "print(\"\\nCostliest stylish garment details:\")\n",
        "print(most_expensive_garment)\n"
      ],
      "metadata": {
        "colab": {
          "base_uri": "https://localhost:8080/"
        },
        "id": "dQsZEHyP7CmJ",
        "outputId": "7673f767-98f4-4902-aea2-708784faa102"
      },
      "execution_count": 18,
      "outputs": [
        {
          "output_type": "stream",
          "name": "stdout",
          "text": [
            "\n",
            "Costliest stylish garment details:\n",
            "Material       Velvet\n",
            "Season         Winter\n",
            "Size               46\n",
            "Decoration    Sequins\n",
            "FabricType     Velvet\n",
            "Style          Formal\n",
            "Cost             3000\n",
            "Name: 9, dtype: object\n"
          ]
        }
      ]
    },
    {
      "cell_type": "markdown",
      "source": [
        "6. Apply either Classification Model or Clustering Model to evaluate the dataset"
      ],
      "metadata": {
        "id": "JplBTADN7pS-"
      }
    },
    {
      "cell_type": "code",
      "source": [
        "from sklearn.cluster import KMeans\n",
        "from sklearn.preprocessing import LabelEncoder, MinMaxScaler\n",
        "import matplotlib.pyplot as plt\n",
        "\n",
        "categorical_columns = ['Material', 'Season', 'Decoration', 'FabricType', 'Style']\n",
        "label_encoders = {}\n",
        "\n",
        "for col in categorical_columns:\n",
        "    le = LabelEncoder()\n",
        "    data[col] = le.fit_transform(data[col])\n",
        "    label_encoders[col] = le\n",
        "\n",
        "scaler = MinMaxScaler()\n",
        "data[['Size', 'Cost']] = scaler.fit_transform(data[['Size', 'Cost']])\n",
        "\n",
        "\n",
        "features = ['Material', 'Season', 'Size', 'Decoration', 'FabricType', 'Style', 'Cost']\n",
        "X = data[features]\n",
        "\n",
        "kmeans = KMeans(n_clusters=5, random_state=42)\n",
        "data['Cluster'] = kmeans.fit_predict(X)\n",
        "\n",
        "plt.scatter(data['Cost'], data['Size'], c=data['Cluster'], cmap='viridis')\n",
        "plt.xlabel('Cost')\n",
        "plt.ylabel('Size')\n",
        "plt.title('Clusters of Garments by Cost and Size')\n",
        "plt.show()\n",
        "\n",
        "data.to_csv('processed_garment_sales.csv', index=False)\n",
        "print(\"\\nProcessed dataset with cluster labels saved as 'processed_garment_sales.csv'.\")\n"
      ],
      "metadata": {
        "colab": {
          "base_uri": "https://localhost:8080/",
          "height": 507
        },
        "id": "j5iPe0Fn7ELD",
        "outputId": "ab2d2b8c-eace-4eb1-8ffb-6c248dc2d73f"
      },
      "execution_count": 19,
      "outputs": [
        {
          "output_type": "display_data",
          "data": {
            "text/plain": [
              "<Figure size 640x480 with 1 Axes>"
            ],
            "image/png": "[encoded data removed]"
          },
          "metadata": {}
        },
        {
          "output_type": "stream",
          "name": "stdout",
          "text": [
            "\n",
            "Processed dataset with cluster labels saved as 'processed_garment_sales.csv'.\n"
          ]
        }
      ]
    }
  ]
}