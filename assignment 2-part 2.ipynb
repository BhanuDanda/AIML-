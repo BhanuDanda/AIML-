{
  "nbformat": 4,
  "nbformat_minor": 0,
  "metadata": {
    "colab": {
      "provenance": [],
      "authorship_tag": "ABX9TyPsPzR2uyYDM9aOwSRLW63D",
      "include_colab_link": true
    },
    "kernelspec": {
      "name": "python3",
      "display_name": "Python 3"
    },
    "language_info": {
      "name": "python"
    }
  },
  "cells": [
    {
      "cell_type": "markdown",
      "metadata": {
        "id": "view-in-github",
        "colab_type": "text"
      },
      "source": [
        "<a href=\"https://colab.research.google.com/github/BhanuDanda/AIML-/blob/main/assignment%202-part%202.ipynb\" target=\"_parent\"><img src=\"https://colab.research.google.com/assets/colab-badge.svg\" alt=\"Open In Colab\"/></a>"
      ]
    },
    {
      "cell_type": "code",
      "execution_count": 1,
      "metadata": {
        "colab": {
          "base_uri": "https://localhost:8080/"
        },
        "id": "fpTt2TnrUWrf",
        "outputId": "c5d1962f-9af1-458f-b3a8-821be1698ed2"
      },
      "outputs": [
        {
          "output_type": "stream",
          "name": "stdout",
          "text": [
            "2.1\n",
            "A S C D F H E G B "
          ]
        }
      ],
      "source": [
        "print(2.1)\n",
        "def dfs(graph, start):\n",
        "    # Initialize the stack with the start node and an empty set for visited nodes\n",
        "    stack = [start]\n",
        "    visited = set()\n",
        "\n",
        "    while stack:\n",
        "        # Pop the top node from the stack\n",
        "        node = stack.pop()\n",
        "\n",
        "        # If the node has not been visited\n",
        "        if node not in visited:\n",
        "            print(node, end=\" \")  # Process the node (you can modify this as needed)\n",
        "            visited.add(node)     # Mark the node as visited\n",
        "\n",
        "            # Push all the neighbors of the node onto the stack\n",
        "            # Add neighbors in reverse order to simulate a natural DFS\n",
        "            for neighbor in reversed(graph[node]):\n",
        "                if neighbor not in visited:\n",
        "                    stack.append(neighbor)\n",
        "\n",
        "# Adjacency list representation of the graph\n",
        "graph = {\n",
        "    'A': ['S', 'B'],\n",
        "    'B': ['A'],\n",
        "    'S': ['A', 'C', 'G'],\n",
        "    'C': ['S', 'D', 'F', 'E'],\n",
        "    'D': ['C'],\n",
        "    'E': ['C', 'H'],\n",
        "    'F': ['C', 'H'],\n",
        "    'G': ['S', 'H'],\n",
        "    'H': ['E', 'F', 'G']\n",
        "}\n",
        "\n",
        "# Call DFS starting from node 'A'\n",
        "dfs(graph, 'A')"
      ]
    },
    {
      "cell_type": "code",
      "source": [
        "print(2.2)\n",
        "def print_adjacent_nodes(graph, node):\n",
        "    # Check if the node is in the graph\n",
        "    if node in graph:\n",
        "        # Retrieve the list of adjacent nodes\n",
        "        adjacent_nodes = graph[node]\n",
        "        print(f\"Adjacent nodes of '{node}': {adjacent_nodes}\")\n",
        "    else:\n",
        "        print(f\"Node '{node}' is not in the graph.\")\n",
        "\n",
        "def select_and_print_adjacent_node(graph, node):\n",
        "    # Check if the node is in the graph\n",
        "    if node in graph:\n",
        "        adjacent_nodes = graph[node]\n",
        "        if adjacent_nodes:\n",
        "            # Select the first adjacent node (you can change the selection logic as needed)\n",
        "            selected_node = adjacent_nodes[0]\n",
        "            print(f\"Selected adjacent node of '{node}': {selected_node}\")\n",
        "        else:\n",
        "            print(f\"Node '{node}' has no adjacent nodes.\")\n",
        "    else:\n",
        "        print(f\"Node '{node}' is not in the graph.\")\n",
        "\n",
        "# Example graph (can be a tree or any other graph)\n",
        "graph = {\n",
        "    'A': ['S', 'B'],\n",
        "    'B': ['A'],\n",
        "    'S': ['A', 'C', 'G'],\n",
        "    'C': ['S', 'D', 'F', 'E'],\n",
        "    'D': ['C'],\n",
        "    'E': ['C', 'H'],\n",
        "    'F': ['C', 'H'],\n",
        "    'G': ['S', 'H'],\n",
        "    'H': ['E', 'F', 'G']\n",
        "}\n",
        "\n",
        "# Example usage\n",
        "node_to_check = 'S'\n",
        "\n",
        "print_adjacent_nodes(graph, node_to_check)\n",
        "select_and_print_adjacent_node(graph, node_to_check)"
      ],
      "metadata": {
        "colab": {
          "base_uri": "https://localhost:8080/"
        },
        "id": "Zh5uIR4kUq9K",
        "outputId": "d5626f6c-96af-4ad4-a6bd-135ad3c347e3"
      },
      "execution_count": 2,
      "outputs": [
        {
          "output_type": "stream",
          "name": "stdout",
          "text": [
            "2.2\n",
            "Adjacent nodes of 'S': ['A', 'C', 'G']\n",
            "Selected adjacent node of 'S': A\n"
          ]
        }
      ]
    },
    {
      "cell_type": "code",
      "source": [
        "print(2.3)\n",
        "def dfs_traverse_branch(graph, start):\n",
        "    # Initialize the stack with the start node and an empty set for visited nodes\n",
        "    stack = [start]\n",
        "    visited = set()\n",
        "\n",
        "    while stack:\n",
        "        # Pop the top node from the stack\n",
        "        node = stack.pop()\n",
        "\n",
        "        # If the node has not been visited\n",
        "        if node not in visited:\n",
        "            print(f\"Visiting node: {node}\")\n",
        "            visited.add(node)  # Mark the node as visited\n",
        "\n",
        "            # Check adjacent nodes and push the entire branch (unvisited neighbors) to the stack\n",
        "            print(f\"Adjacent nodes of {node}: {graph[node]}\")\n",
        "            for neighbor in reversed(graph[node]):  # Process neighbors in reverse order\n",
        "                if neighbor not in visited:\n",
        "                    print(f\"Adding node {neighbor} to the stack (traversing the branch).\")\n",
        "                    stack.append(neighbor)  # Push the neighbor onto the stack\n",
        "\n",
        "# Adjacency list representation of the graph\n",
        "graph = {\n",
        "    'A': ['S', 'B'],\n",
        "    'B': ['A'],\n",
        "    'S': ['A', 'C', 'G'],\n",
        "    'C': ['S', 'D', 'F', 'E'],\n",
        "    'D': ['C'],\n",
        "    'E': ['C', 'H'],\n",
        "    'F': ['C', 'H'],\n",
        "    'G': ['S', 'H'],\n",
        "    'H': ['E', 'F', 'G']\n",
        "}\n",
        "\n",
        "# Call DFS starting from node 'A'\n",
        "dfs_traverse_branch(graph, 'A')"
      ],
      "metadata": {
        "colab": {
          "base_uri": "https://localhost:8080/"
        },
        "id": "chbsbReMU0nB",
        "outputId": "010ce02d-aba6-4c3f-8d9a-e21a5e005843"
      },
      "execution_count": 3,
      "outputs": [
        {
          "output_type": "stream",
          "name": "stdout",
          "text": [
            "2.3\n",
            "Visiting node: A\n",
            "Adjacent nodes of A: ['S', 'B']\n",
            "Adding node B to the stack (traversing the branch).\n",
            "Adding node S to the stack (traversing the branch).\n",
            "Visiting node: S\n",
            "Adjacent nodes of S: ['A', 'C', 'G']\n",
            "Adding node G to the stack (traversing the branch).\n",
            "Adding node C to the stack (traversing the branch).\n",
            "Visiting node: C\n",
            "Adjacent nodes of C: ['S', 'D', 'F', 'E']\n",
            "Adding node E to the stack (traversing the branch).\n",
            "Adding node F to the stack (traversing the branch).\n",
            "Adding node D to the stack (traversing the branch).\n",
            "Visiting node: D\n",
            "Adjacent nodes of D: ['C']\n",
            "Visiting node: F\n",
            "Adjacent nodes of F: ['C', 'H']\n",
            "Adding node H to the stack (traversing the branch).\n",
            "Visiting node: H\n",
            "Adjacent nodes of H: ['E', 'F', 'G']\n",
            "Adding node G to the stack (traversing the branch).\n",
            "Adding node E to the stack (traversing the branch).\n",
            "Visiting node: E\n",
            "Adjacent nodes of E: ['C', 'H']\n",
            "Visiting node: G\n",
            "Adjacent nodes of G: ['S', 'H']\n",
            "Visiting node: B\n",
            "Adjacent nodes of B: ['A']\n"
          ]
        }
      ]
    },
    {
      "cell_type": "code",
      "source": [
        "print(2.4)\n",
        "def dfs_with_backtracking(graph, start):\n",
        "\n",
        "    stack = [start]\n",
        "    visited = set()\n",
        "\n",
        "    while stack:\n",
        "        node = stack.pop()\n",
        "\n",
        "        if node not in visited:\n",
        "            print(node, end=\" \")  # Process the node (e.g., print it)\n",
        "            visited.add(node)\n",
        "\n",
        "            # Push all unvisited neighbors onto the stack\n",
        "            for neighbor in reversed(graph[node]):\n",
        "                if neighbor not in visited:\n",
        "                    stack.append(neighbor)\n",
        "\n",
        "# Adjacency list representation of the graph\n",
        "graph = {\n",
        "    'A': ['S', 'B'],\n",
        "    'B': ['A'],\n",
        "    'S': ['A', 'C', 'G'],\n",
        "    'C': ['S', 'D', 'F', 'E'],\n",
        "    'D': ['C'],\n",
        "    'E': ['C', 'H'],\n",
        "    'F': ['C', 'H'],\n",
        "    'G': ['S', 'H'],\n",
        "    'H': ['E', 'F', 'G']\n",
        "}\n",
        "\n",
        "# Example usage\n",
        "start_node = 'S'\n",
        "print(\"DFS Traversal:\")\n",
        "dfs_with_backtracking(graph, start_node)"
      ],
      "metadata": {
        "colab": {
          "base_uri": "https://localhost:8080/"
        },
        "id": "Q3dbdiZ0VFAl",
        "outputId": "9babb41c-3ea1-4c7e-abec-570d6bdfcb68"
      },
      "execution_count": 4,
      "outputs": [
        {
          "output_type": "stream",
          "name": "stdout",
          "text": [
            "2.4\n",
            "DFS Traversal:\n",
            "S A B C D F H E G "
          ]
        }
      ]
    },
    {
      "cell_type": "code",
      "source": [
        "print(2.5)\n",
        "def dfs_with_continued_exploration(graph, start):\n",
        "\n",
        "    stack = [start]\n",
        "    visited = set()\n",
        "\n",
        "    while stack:\n",
        "        node = stack[-1]  # Peek the top node\n",
        "        if node not in visited:\n",
        "            print(node, end=\" \")  # Process the node (e.g., print it)\n",
        "            visited.add(node)\n",
        "\n",
        "        # Find an unvisited neighbor\n",
        "        found_unvisited = False\n",
        "        for neighbor in graph[node]:\n",
        "            if neighbor not in visited:\n",
        "                stack.append(neighbor)\n",
        "                found_unvisited = True\n",
        "                break  # Break to explore this neighbor deeply\n",
        "\n",
        "        # If all neighbors are visited, backtrack\n",
        "        if not found_unvisited:\n",
        "            stack.pop()  # All neighbors are visited, backtrack\n",
        "\n",
        "# Adjacency list representation of the graph\n",
        "graph = {\n",
        "    'A': ['S', 'B'],\n",
        "    'B': ['A'],\n",
        "    'S': ['A', 'C', 'G'],\n",
        "    'C': ['S', 'D', 'F', 'E'],\n",
        "    'D': ['C'],\n",
        "    'E': ['C', 'H'],\n",
        "    'F': ['C', 'H'],\n",
        "    'G': ['S', 'H'],\n",
        "    'H': ['E', 'F', 'G']\n",
        "}\n",
        "\n",
        "# Example usage\n",
        "start_node = 'S'\n",
        "print(\"DFS Traversal with Continued Exploration:\")\n",
        "dfs_with_continued_exploration(graph, start_node)"
      ],
      "metadata": {
        "colab": {
          "base_uri": "https://localhost:8080/"
        },
        "id": "IL557A0OVGc6",
        "outputId": "a52f810a-c37d-4a06-eec5-054e7dbc9d26"
      },
      "execution_count": 5,
      "outputs": [
        {
          "output_type": "stream",
          "name": "stdout",
          "text": [
            "2.5\n",
            "DFS Traversal with Continued Exploration:\n",
            "S A B C D F H E G "
          ]
        }
      ]
    }
  ]
}